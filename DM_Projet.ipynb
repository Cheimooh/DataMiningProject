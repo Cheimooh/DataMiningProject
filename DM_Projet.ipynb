{
  "cells": [
    {
      "cell_type": "markdown",
      "metadata": {
        "colab_type": "text",
        "id": "view-in-github"
      },
      "source": [
        "<a href=\"https://colab.research.google.com/github/Cheimooh/DataMiningProject/blob/main/DM_Projet.ipynb\" target=\"_parent\"><img src=\"https://colab.research.google.com/assets/colab-badge.svg\" alt=\"Open In Colab\"/></a>"
      ]
    },
    {
      "cell_type": "code",
      "execution_count": null,
      "metadata": {
        "colab": {
          "base_uri": "https://localhost:8080/"
        },
        "id": "NkuKLDVs5IaS",
        "outputId": "8448864b-e1a4-495e-efd5-970ae9b6c1dd"
      },
      "outputs": [],
      "source": [
        "import pandas as pd\n",
        "import sklearn\n",
        "import numpy as np\n",
        "\n",
        "df = pd.read_csv(\"./data/googleplaystore.csv\")\n",
        "df.info()"
      ]
    },
    {
      "cell_type": "markdown",
      "metadata": {
        "id": "79LsB6PMGpkF"
      },
      "source": [
        "### Colonnes"
      ]
    },
    {
      "cell_type": "markdown",
      "metadata": {
        "id": "5EaLb-SHkIfp"
      },
      "source": [
        "a première vue, il n'y a qu'une colonne qui contient des données numériques. L'idée est donc de vérifier quelles colonnes il serait possible de tranformer en données numériques afin d'avoir plus de matières pour les analyses suivantes\n"
      ]
    },
    {
      "cell_type": "markdown",
      "metadata": {
        "id": "Pcc7LO2RDVj0"
      },
      "source": [
        "#### Size (ok)"
      ]
    },
    {
      "cell_type": "code",
      "execution_count": null,
      "metadata": {
        "colab": {
          "base_uri": "https://localhost:8080/"
        },
        "id": "MD3UMxAtkWtp",
        "outputId": "aed76ae4-d5d5-434e-9dfd-f7c207e80f6a"
      },
      "outputs": [],
      "source": [
        "df[\"Size\"]"
      ]
    },
    {
      "cell_type": "markdown",
      "metadata": {
        "id": "LHZ_JoCvkn5p"
      },
      "source": [
        "Dans le cas présent, Size est un objet, qui pourrait être convertis en une valeur numérique"
      ]
    },
    {
      "cell_type": "markdown",
      "metadata": {
        "id": "FU8Eeeh-DXXs"
      },
      "source": [
        "#### Category (ok)"
      ]
    },
    {
      "cell_type": "code",
      "execution_count": null,
      "metadata": {
        "colab": {
          "base_uri": "https://localhost:8080/"
        },
        "id": "Mxx8D40vknk8",
        "outputId": "609da384-62a5-40d5-c6d5-fe70868cd4b9"
      },
      "outputs": [],
      "source": [
        "df[\"Category\"]"
      ]
    },
    {
      "cell_type": "markdown",
      "metadata": {
        "id": "h7RnD21flMTr"
      },
      "source": [
        "Category, pourrait être convertie en données numériques, par ex 1 pour ART_AND_DESIGN, 2 pour FAMILLY etc"
      ]
    },
    {
      "cell_type": "markdown",
      "metadata": {
        "id": "GBlC0th2DaSM"
      },
      "source": [
        "#### Reviews (ok)"
      ]
    },
    {
      "cell_type": "code",
      "execution_count": null,
      "metadata": {
        "colab": {
          "base_uri": "https://localhost:8080/"
        },
        "id": "4U40Gl9ElTdH",
        "outputId": "bd9c8b3f-3afe-47e1-eaa2-282595ffc728"
      },
      "outputs": [],
      "source": [
        "df[\"Reviews\"]"
      ]
    },
    {
      "cell_type": "markdown",
      "metadata": {
        "id": "_lUQ-WWhlZ_P"
      },
      "source": [
        "Reviews correspond au nombre de reviews, il faut donc le convertir en valeur numérique"
      ]
    },
    {
      "cell_type": "markdown",
      "metadata": {
        "id": "DhzF7mEjDdfB"
      },
      "source": [
        "#### Installs (ok)"
      ]
    },
    {
      "cell_type": "code",
      "execution_count": null,
      "metadata": {
        "colab": {
          "base_uri": "https://localhost:8080/"
        },
        "id": "gLGfPJZ-lhgS",
        "outputId": "681acf2f-c03f-444a-9357-3c4d10929689"
      },
      "outputs": [],
      "source": [
        "df['Installs'].unique()"
      ]
    },
    {
      "cell_type": "markdown",
      "metadata": {
        "id": "9d51wkPwlk6U"
      },
      "source": [
        "Correspond au nombre d'installations (ordre de grandeur)\n",
        "Il suffit d'enlever le +"
      ]
    },
    {
      "cell_type": "markdown",
      "metadata": {
        "id": "45CH8mzdDfE8"
      },
      "source": [
        "#### Type (abandonnée)"
      ]
    },
    {
      "cell_type": "code",
      "execution_count": null,
      "metadata": {
        "colab": {
          "base_uri": "https://localhost:8080/"
        },
        "id": "wMrY7Xxslo9O",
        "outputId": "013d4cd5-9a80-45d5-b68f-27b2dc3e7a9c"
      },
      "outputs": [],
      "source": [
        "df['Type'].unique()"
      ]
    },
    {
      "cell_type": "markdown",
      "metadata": {
        "id": "C3zkZcVMlue9"
      },
      "source": [
        "Semble correspondre au type de l'aplication (payante ou non). Peut etre convertie en valeur booleenne permettant de determiner si une app est payante ou non\n",
        "\n"
      ]
    },
    {
      "cell_type": "markdown",
      "metadata": {
        "id": "0s5ttKT2ETBH"
      },
      "source": [
        "#### Price (ok)"
      ]
    },
    {
      "cell_type": "code",
      "execution_count": null,
      "metadata": {
        "colab": {
          "base_uri": "https://localhost:8080/"
        },
        "id": "2rwRLKI6lsoa",
        "outputId": "0a0afd2f-f04d-4cd3-81c1-86cf86f2d00d"
      },
      "outputs": [],
      "source": [
        "df[\"Price\"].unique()"
      ]
    },
    {
      "cell_type": "markdown",
      "metadata": {
        "id": "3f5gZKT7mKqD"
      },
      "source": [
        "Valeur numérique, il faut enlever le $$$$"
      ]
    },
    {
      "cell_type": "markdown",
      "metadata": {
        "id": "QqGqHAMqEZOn"
      },
      "source": [
        "#### Content Rating (ok)"
      ]
    },
    {
      "cell_type": "code",
      "execution_count": null,
      "metadata": {
        "colab": {
          "base_uri": "https://localhost:8080/"
        },
        "id": "ucdYGWGImPSF",
        "outputId": "5969b366-37d9-4bc6-8fe1-88d26304753a"
      },
      "outputs": [],
      "source": [
        "df['Content Rating'].unique()"
      ]
    },
    {
      "cell_type": "markdown",
      "metadata": {
        "id": "7eadc5CamXEn"
      },
      "source": [
        "on peut transformer tout ca en une valeur numérique\n",
        "\n"
      ]
    },
    {
      "cell_type": "markdown",
      "metadata": {
        "id": "Lusm0QexEelK"
      },
      "source": [
        "#### Genres (ok)"
      ]
    },
    {
      "cell_type": "code",
      "execution_count": null,
      "metadata": {
        "colab": {
          "base_uri": "https://localhost:8080/"
        },
        "id": "W5DEP1gqmhp5",
        "outputId": "b9e4c035-6faa-4d4d-de92-c33331573f0e"
      },
      "outputs": [],
      "source": [
        "df[\"Genres\"].unique()"
      ]
    },
    {
      "cell_type": "markdown",
      "metadata": {
        "id": "k463xMoMmqbe"
      },
      "source": [
        "a voir"
      ]
    },
    {
      "cell_type": "markdown",
      "metadata": {
        "id": "OXPyx9IJEhH0"
      },
      "source": [
        "#### Last Updated (ok)"
      ]
    },
    {
      "cell_type": "code",
      "execution_count": null,
      "metadata": {
        "colab": {
          "base_uri": "https://localhost:8080/"
        },
        "id": "dVIHil4Pmv7N",
        "outputId": "523db936-bd72-46e4-d4f0-fadc6f6a71d0"
      },
      "outputs": [],
      "source": [
        "df[\"Last Updated\"]"
      ]
    },
    {
      "cell_type": "markdown",
      "metadata": {
        "id": "S1KkEKQPEjqS"
      },
      "source": [
        "#### Current Ver (abandonnée)"
      ]
    },
    {
      "cell_type": "code",
      "execution_count": null,
      "metadata": {
        "colab": {
          "base_uri": "https://localhost:8080/"
        },
        "id": "g1Dzo8L6m1M-",
        "outputId": "826134d5-6b09-42d4-8a39-c0c8e3c85f08"
      },
      "outputs": [],
      "source": [
        "df[\"Current Ver\"]"
      ]
    },
    {
      "cell_type": "markdown",
      "metadata": {
        "id": "WQJymoAbEmD4"
      },
      "source": [
        "#### Android Ver (abandon)"
      ]
    },
    {
      "cell_type": "markdown",
      "metadata": {
        "id": "XMlnhaIu1DBl"
      },
      "source": [
        "ne sert a rien car trop de lignes a enlever, on peut se baser sur la colonne \"last updated\" pour savoir si une app est maintenue ou pas\n"
      ]
    },
    {
      "cell_type": "code",
      "execution_count": null,
      "metadata": {
        "colab": {
          "base_uri": "https://localhost:8080/"
        },
        "id": "ih-yevr2m4OL",
        "outputId": "82f1f240-ec59-453e-ef33-0348a5566c01"
      },
      "outputs": [],
      "source": [
        "from pprint import pprint\n",
        "pprint(df[\"Android Ver\"].unique())\n",
        "print(df[\"Android Ver\"].isna().sum())\n",
        "print(df[\"Android Ver\"].isnull().sum())"
      ]
    },
    {
      "cell_type": "markdown",
      "metadata": {
        "id": "kKsY6ZgXsahy"
      },
      "source": [
        "### Conversion des colonnes en numérique"
      ]
    },
    {
      "cell_type": "code",
      "execution_count": null,
      "metadata": {
        "id": "9O5eiff5wJNB"
      },
      "outputs": [],
      "source": [
        "def col_to_num(col):\n",
        "  df[col] = pd.to_numeric(df[col], errors=\"coerce\")\n",
        "  print(df[col])"
      ]
    },
    {
      "cell_type": "markdown",
      "metadata": {
        "id": "EzxsaOHVv3yP"
      },
      "source": [
        "#### Colonne \"Size\" (à faire)"
      ]
    },
    {
      "cell_type": "code",
      "execution_count": null,
      "metadata": {
        "colab": {
          "base_uri": "https://localhost:8080/"
        },
        "id": "YFZ6U-thxtar",
        "outputId": "e3dcbfab-3fcf-49dd-877f-496868db30bd"
      },
      "outputs": [],
      "source": [
        "print(df[\"Size\"].unique())"
      ]
    },
    {
      "cell_type": "code",
      "execution_count": null,
      "metadata": {
        "colab": {
          "base_uri": "https://localhost:8080/"
        },
        "id": "KR4_40DG-BYT",
        "outputId": "9911e67b-5d7f-467d-b12b-5af6b017fcef"
      },
      "outputs": [],
      "source": [
        "# Supprime les lignes où les valeurs sont pas interprétables (1,000+ et Varies with device)\n",
        "df = df.drop(df[df[\"Size\"].str.contains('\\+', regex=True)].index)\n",
        "df = df.drop(df[df[\"Size\"].str.contains('Varies', regex=True)].index)\n",
        "print(df[\"Size\"].unique())\n",
        "df.info()"
      ]
    },
    {
      "cell_type": "code",
      "execution_count": null,
      "metadata": {
        "colab": {
          "base_uri": "https://localhost:8080/"
        },
        "id": "eNzH4RVEwk1f",
        "outputId": "57aae20d-52e4-4a95-f9a0-88b962841190"
      },
      "outputs": [],
      "source": [
        "df[\"Size\"] = df[\"Size\"].str.replace('M','000000')\n",
        "df[\"Size\"] = df[\"Size\"].str.replace('k', '000')\n",
        "print(df[\"Size\"].unique())"
      ]
    },
    {
      "cell_type": "code",
      "execution_count": null,
      "metadata": {
        "colab": {
          "base_uri": "https://localhost:8080/"
        },
        "id": "8ra_7MfU8ovw",
        "outputId": "b5535456-efde-4790-eec5-7c8d53c3dcea"
      },
      "outputs": [],
      "source": [
        "df['Size'] = df['Size'].apply(lambda x: x[:-1] if '.' in x else x)\n",
        "df[\"Size\"] = df[\"Size\"].str.replace('.', '')\n",
        "print(df[\"Size\"].unique())"
      ]
    },
    {
      "cell_type": "code",
      "execution_count": null,
      "metadata": {
        "colab": {
          "base_uri": "https://localhost:8080/"
        },
        "id": "_MhtpCf0v8y7",
        "outputId": "1122c454-972c-42b8-f35b-decbbe34893e"
      },
      "outputs": [],
      "source": [
        "col_to_num(\"Size\")"
      ]
    },
    {
      "cell_type": "markdown",
      "metadata": {
        "id": "5ay0moVtvvqi"
      },
      "source": [
        "#### Colonne \"Installs\""
      ]
    },
    {
      "cell_type": "code",
      "execution_count": null,
      "metadata": {
        "colab": {
          "base_uri": "https://localhost:8080/"
        },
        "id": "ywMdQzeOuCbD",
        "outputId": "89838422-2c36-4098-e27b-8effb7235b96"
      },
      "outputs": [],
      "source": [
        "df[\"Installs\"] = df[\"Installs\"].str.replace('+', '')\n",
        "df[\"Installs\"] = df[\"Installs\"].str.replace(',', '')"
      ]
    },
    {
      "cell_type": "code",
      "execution_count": null,
      "metadata": {
        "colab": {
          "base_uri": "https://localhost:8080/"
        },
        "id": "sjQGr0NrsqhR",
        "outputId": "06e8ea74-3095-4bdc-e1bc-f2bc69acb992"
      },
      "outputs": [],
      "source": [
        "col_to_num(\"Installs\")"
      ]
    },
    {
      "cell_type": "markdown",
      "metadata": {
        "id": "Ns0Stq1By5H-"
      },
      "source": [
        "#### Colonne \"Price\"\n"
      ]
    },
    {
      "cell_type": "code",
      "execution_count": null,
      "metadata": {
        "colab": {
          "base_uri": "https://localhost:8080/"
        },
        "id": "z4KSCnJ8zK1C",
        "outputId": "b6388aa8-6fec-4e85-987d-eea0495a5898"
      },
      "outputs": [],
      "source": [
        "df[\"Price\"] = df[\"Price\"].str.replace('$', '')\n",
        "print(df[\"Price\"].unique())"
      ]
    },
    {
      "cell_type": "code",
      "execution_count": null,
      "metadata": {
        "colab": {
          "base_uri": "https://localhost:8080/"
        },
        "id": "4f_TJ1ROzcoV",
        "outputId": "1f8097ff-f64b-487e-f6e4-4e822d269542"
      },
      "outputs": [],
      "source": [
        "col_to_num(\"Price\")"
      ]
    },
    {
      "cell_type": "markdown",
      "metadata": {
        "id": "1ilyMHs5BwWQ"
      },
      "source": [
        "#### Colonne \"Reviews\""
      ]
    },
    {
      "cell_type": "code",
      "execution_count": null,
      "metadata": {
        "colab": {
          "base_uri": "https://localhost:8080/"
        },
        "id": "N2G7pGzvBz3C",
        "outputId": "04384433-1b12-4336-ec21-065da84b1ba6"
      },
      "outputs": [],
      "source": [
        "print(df[\"Reviews\"].unique())"
      ]
    },
    {
      "cell_type": "code",
      "execution_count": null,
      "metadata": {
        "colab": {
          "base_uri": "https://localhost:8080/"
        },
        "id": "swRGoYqBCAtN",
        "outputId": "87558b4d-eae3-4ea4-8006-90b7a22862b1"
      },
      "outputs": [],
      "source": [
        "col_to_num(\"Reviews\")"
      ]
    },
    {
      "cell_type": "markdown",
      "metadata": {
        "id": "ReRyxSmG_QJp"
      },
      "source": [
        "### Enum"
      ]
    },
    {
      "cell_type": "code",
      "execution_count": null,
      "metadata": {
        "id": "yBsYanqS_R0_"
      },
      "outputs": [],
      "source": [
        "def dict_from_cat(col):\n",
        "  return {valeur_unique: indice for indice, valeur_unique in enumerate(df[col].unique())}"
      ]
    },
    {
      "cell_type": "code",
      "execution_count": null,
      "metadata": {
        "id": "AAjvm7zL_v82"
      },
      "outputs": [],
      "source": [
        "def dict_to_float(col, dictionary):\n",
        "  df[col] = df[col].map(dictionary)\n",
        "  col_to_num(col)"
      ]
    },
    {
      "cell_type": "markdown",
      "metadata": {
        "id": "dYLvAbWU0ATz"
      },
      "source": [
        "#### Colonne \"Category\""
      ]
    },
    {
      "cell_type": "code",
      "execution_count": null,
      "metadata": {
        "colab": {
          "base_uri": "https://localhost:8080/"
        },
        "id": "iMdhx4Vs0Do8",
        "outputId": "35286a7f-3612-41de-ab75-90a79c29927a"
      },
      "outputs": [],
      "source": [
        "df[\"Category\"].unique()"
      ]
    },
    {
      "cell_type": "code",
      "execution_count": null,
      "metadata": {
        "colab": {
          "base_uri": "https://localhost:8080/"
        },
        "id": "P0mDB7_01VjJ",
        "outputId": "fb25489c-371b-481e-f281-712877dfce81"
      },
      "outputs": [],
      "source": [
        "len(df[\"Category\"].unique())"
      ]
    },
    {
      "cell_type": "code",
      "execution_count": null,
      "metadata": {
        "colab": {
          "base_uri": "https://localhost:8080/"
        },
        "id": "0a2Jgx5w1noq",
        "outputId": "b063337b-28c1-483f-b8ad-a496417344ba"
      },
      "outputs": [],
      "source": [
        "dict_category = dict_from_cat(\"Category\")\n",
        "dict_to_float(\"Category\", dict_category)"
      ]
    },
    {
      "cell_type": "markdown",
      "metadata": {
        "id": "Xd1dmnKrCiRV"
      },
      "source": [
        "#### Colonne \"Content Rating\""
      ]
    },
    {
      "cell_type": "code",
      "execution_count": null,
      "metadata": {
        "colab": {
          "base_uri": "https://localhost:8080/"
        },
        "id": "5zWi_71CCu5y",
        "outputId": "1d532ca6-8351-4147-db4b-4098986930e6"
      },
      "outputs": [],
      "source": [
        "df[\"Content Rating\"].unique()"
      ]
    },
    {
      "cell_type": "code",
      "execution_count": null,
      "metadata": {
        "colab": {
          "base_uri": "https://localhost:8080/"
        },
        "id": "IdBHx1o0CmKR",
        "outputId": "fc87a84b-5170-42c7-8528-7b30e373b63d"
      },
      "outputs": [],
      "source": [
        "dict_contentRating = dict_from_cat(\"Content Rating\")\n",
        "dict_to_float(\"Content Rating\", dict_contentRating)"
      ]
    },
    {
      "cell_type": "code",
      "execution_count": null,
      "metadata": {
        "colab": {
          "base_uri": "https://localhost:8080/"
        },
        "id": "OLFfNBHaDIB_",
        "outputId": "d9216366-57aa-4bc4-e3ce-b45515c8a44e"
      },
      "outputs": [],
      "source": [
        "df[\"Content Rating\"].unique()"
      ]
    },
    {
      "cell_type": "markdown",
      "metadata": {
        "id": "sAcbHRjpHV93"
      },
      "source": [
        "#### Colonne \"Genres\"\n",
        "Probleme, cette colonne contient plusieurs infos, on va donc la split en 2 colonnes avant de la passée en valeurs numériques"
      ]
    },
    {
      "cell_type": "code",
      "execution_count": null,
      "metadata": {
        "colab": {
          "base_uri": "https://localhost:8080/"
        },
        "id": "Ox9jrzzZHgdd",
        "outputId": "0137ef62-a764-4a81-ea89-2f933daff7e3"
      },
      "outputs": [],
      "source": [
        "df[[\"Genres\", \"GenreSecondaire\"]] = df[\"Genres\"].str.split(\";\", expand=True)\n",
        "df = df.rename(columns={\"Genres\" : \"GenrePrincipal\"})\n",
        "df[\"GenreSecondaire\"]"
      ]
    },
    {
      "cell_type": "markdown",
      "metadata": {
        "id": "MNlInveBIR8X"
      },
      "source": [
        "##### Genre Principal"
      ]
    },
    {
      "cell_type": "code",
      "execution_count": null,
      "metadata": {
        "colab": {
          "base_uri": "https://localhost:8080/"
        },
        "id": "pDSniXbEH1qH",
        "outputId": "b1d4045c-482f-460a-fb25-28d412eb8080"
      },
      "outputs": [],
      "source": [
        "dict_genrePrincipal = dict_from_cat(\"GenrePrincipal\")\n",
        "dict_to_float(\"GenrePrincipal\", dict_genrePrincipal)"
      ]
    },
    {
      "cell_type": "markdown",
      "metadata": {
        "id": "yok2kdbKIUvn"
      },
      "source": [
        "##### Genre secondaire"
      ]
    },
    {
      "cell_type": "code",
      "execution_count": null,
      "metadata": {
        "colab": {
          "base_uri": "https://localhost:8080/"
        },
        "id": "lKMqNoRJIQmy",
        "outputId": "a96620d1-2831-484f-9f81-f7bf1d8a5b94"
      },
      "outputs": [],
      "source": [
        "dict_genreSecondaire = dict_from_cat(\"GenreSecondaire\")\n",
        "dict_to_float(\"GenreSecondaire\", dict_genreSecondaire)"
      ]
    },
    {
      "cell_type": "markdown",
      "metadata": {
        "id": "3UjaV-_wJTnA"
      },
      "source": [
        "### Conversion colonne date"
      ]
    },
    {
      "cell_type": "code",
      "execution_count": null,
      "metadata": {
        "colab": {
          "base_uri": "https://localhost:8080/"
        },
        "id": "AQ4bFnuVJXI-",
        "outputId": "19d2e641-492c-44d2-833c-d178711fa2c4"
      },
      "outputs": [],
      "source": [
        "#df['Last Updated'] = df['Last Updated'].str.replace(' [0-9]+,', '', regex=True)\n",
        "df[\"Last Updated\"].unique()\n",
        "df[\"Last Updated\"] = df[\"Last Updated\"].replace('1.0.19', 'NaN')\n",
        "df['Last Updated'] = pd.to_datetime(df['Last Updated'], format='%B %d, %Y')\n",
        "df[\"Last Updated\"].dt.date"
      ]
    },
    {
      "cell_type": "markdown",
      "metadata": {
        "id": "wDdYx_EdCXJP"
      },
      "source": [
        "### Colonnes abandonnées"
      ]
    },
    {
      "cell_type": "code",
      "execution_count": null,
      "metadata": {
        "colab": {
          "base_uri": "https://localhost:8080/",
          "height": 407
        },
        "id": "vr40AaotFjGx",
        "outputId": "893bc5c5-954c-4e4f-a68c-7d5450ea157a"
      },
      "outputs": [],
      "source": [
        "#df = df.drop(columns=[\"color\", \"type\", \"condition\"])\n",
        "df = df.drop(columns=[\"Type\", \"Current Ver\", \"Android Ver\"])\n",
        "df.info()"
      ]
    },
    {
      "cell_type": "code",
      "execution_count": null,
      "metadata": {
        "colab": {
          "base_uri": "https://localhost:8080/"
        },
        "id": "7Ry7ombm2ZEG",
        "outputId": "723f41b0-c7cf-46f7-a875-eead7ae8996a"
      },
      "outputs": [],
      "source": [
        "df.info()"
      ]
    },
    {
      "cell_type": "code",
      "execution_count": null,
      "metadata": {
        "id": "H8qNflB34h3-"
      },
      "outputs": [],
      "source": [
        "df.to_csv(\"./data/clean_dataset_googleplaystore.csv\", index=False)"
      ]
    },
    {
      "cell_type": "markdown",
      "metadata": {
        "id": "KJZjTU5DBeYl"
      },
      "source": [
        "#### Colonne \"Type\""
      ]
    },
    {
      "cell_type": "markdown",
      "metadata": {
        "id": "DoCg3xCsCZkt"
      },
      "source": [
        "La colonne \"Prix\" nous donne déjà l'infomation si le produit est gratuit ou non."
      ]
    },
    {
      "cell_type": "markdown",
      "metadata": {
        "id": "UbZM_zP8IuFH"
      },
      "source": [
        "#### Colonne \"Current Ver\""
      ]
    },
    {
      "cell_type": "markdown",
      "metadata": {
        "id": "107JL4zEI16p"
      },
      "source": [
        "Un peu inutile, dépend des applications."
      ]
    }
  ],
  "metadata": {
    "colab": {
      "include_colab_link": true,
      "provenance": []
    },
    "kernelspec": {
      "display_name": "Python 3",
      "name": "python3"
    },
    "language_info": {
      "codemirror_mode": {
        "name": "ipython",
        "version": 3
      },
      "file_extension": ".py",
      "mimetype": "text/x-python",
      "name": "python",
      "nbconvert_exporter": "python",
      "pygments_lexer": "ipython3",
      "version": "3.9.13"
    }
  },
  "nbformat": 4,
  "nbformat_minor": 0
}
