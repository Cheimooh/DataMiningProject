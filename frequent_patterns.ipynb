{
 "cells": [
  {
   "cell_type": "code",
   "execution_count": null,
   "metadata": {},
   "outputs": [],
   "source": [
    "try:\n",
    "    import mlxtend\n",
    "\n",
    "    # Si mlxtend est déjà installé\n",
    "    print(\"MLxtend est déjà installé (version {})\".format(mlxtend.__version__))\n",
    "\n",
    "except ImportError:\n",
    "    # Si mlxtend n'est pas installé, installez-le\n",
    "    !pip install mlxtend\n",
    "    print(\"MLxtend a été installé avec succès.\")"
   ]
  },
  {
   "cell_type": "code",
   "execution_count": null,
   "metadata": {},
   "outputs": [],
   "source": [
    "import warnings\n",
    "warnings.filterwarnings(\"ignore\", category=DeprecationWarning)"
   ]
  },
  {
   "cell_type": "code",
   "execution_count": null,
   "metadata": {},
   "outputs": [],
   "source": [
    "import pandas as pd\n",
    "import numpy as np\n",
    "import plotly.express as px\n",
    "import scipy.stats as stats\n",
    "from sklearn.decomposition import PCA\n",
    "from sklearn.manifold import TSNE\n",
    "import seaborn as sns\n",
    "from mlxtend.frequent_patterns import apriori\n",
    "from mlxtend.frequent_patterns import association_rules\n",
    "from mlxtend.preprocessing import TransactionEncoder\n",
    "import itertools"
   ]
  },
  {
   "cell_type": "markdown",
   "metadata": {},
   "source": [
    "## Partie 1"
   ]
  },
  {
   "cell_type": "markdown",
   "metadata": {},
   "source": [
    "Sélection des applications téléchargées plus de 1M de fois avec un score supérieur à 4.\n",
    "\n",
    "But : essayer de trouver des patterns revenant souvent. Par exemple, des couples genre principal - genre secondaire."
   ]
  },
  {
   "cell_type": "markdown",
   "metadata": {},
   "source": [
    "### Création du dataframe"
   ]
  },
  {
   "cell_type": "code",
   "execution_count": null,
   "metadata": {},
   "outputs": [],
   "source": [
    "# Lecture du dataset\n",
    "df = pd.read_csv(\"data/clean_dataset_googleplaystore_cat_str.csv\")\n",
    "df.head(2)"
   ]
  },
  {
   "cell_type": "code",
   "execution_count": null,
   "metadata": {},
   "outputs": [],
   "source": [
    "def create_a_priori_df(df, installs = 1000000, rating=0, reviews=0, genre_secondaire=False, price=True, category=False):\n",
    "    ''' \n",
    "        Crée le data frame utilisé pour l'apriori.\n",
    "        \n",
    "        @param df : dataframe, dataframe à utiliser pour créer le dataframe pour l'apriori.\n",
    "        @param installs : int, nombre d'installations minimum pour qu'une application soit considérée comme populaire.\n",
    "        @param rating : float, note minimum pour qu'une application soit considérée comme populaire.\n",
    "        @param reviews : int, nombre de reviews minimum pour qu'une application soit considérée comme populaire.\n",
    "        @param genre_secondaire : bool, si True, les genres secondaires sont pris en compte, sinon, ils sont ignorés.\n",
    "        @param price : bool, si True, le prix des applications est prise en compte, sinon, il esy ignoré.\n",
    "        \n",
    "        @return : dataframe, dataframe pour l'apriori.\n",
    "    '''\n",
    "    df_apriori = df.copy()\n",
    "    \n",
    "    # Ajoute les colonnes genre principal et genre secondaire avec comme valeur 1 pour l'indice du tableau qui est le bon genre   \n",
    "    df_apriori = pd.concat([df_apriori, pd.get_dummies(df_apriori[\"GenrePrincipal\"])], axis=1)\n",
    "    if genre_secondaire:\n",
    "        df_apriori = pd.concat([df_apriori, pd.get_dummies(df_apriori[\"GenreSecondaire\"])], axis=1)\n",
    "    if category:\n",
    "        df_apriori = pd.concat([df_apriori, pd.get_dummies(df_apriori[\"Category\"])], axis=1)\n",
    "    \n",
    "    # Sélection des colonnes nous intéressant\n",
    "    selected_columns = [\"App\", \"Price\", \"Rating\", \"Reviews\", \"GenrePrincipal\", \"GenreSecondaire\", \"Category\", \"Installs\"]\n",
    "    df_apriori = df_apriori[selected_columns]\n",
    "    \n",
    "    # Prix = 1 si l'application est payante, 0 sinon.\n",
    "    if price:\n",
    "        df_apriori[\"Price\"] = df_apriori[\"Price\"].apply(lambda x: 1 if x == 0 else 0)\n",
    "    else:\n",
    "        df_apriori = df_apriori.drop(columns=[\"Price\"])\n",
    "    \n",
    "    # Si rating != 0, Rating = 1 si l'application a une note supérieure à rating, 0 sinon.\n",
    "    # Sinon suppression de la colonne Rating.\n",
    "    if rating != 0:\n",
    "        df_apriori[\"Rating\"] = df_apriori[\"Rating\"].apply(lambda x: 1 if x > rating else 0)\n",
    "    else:\n",
    "        df_apriori = df_apriori.drop(columns=[\"Rating\"])\n",
    "    \n",
    "    # Si reviews != 0, Reviews = 1 si l'application a plus de reviews que reviews, 0 sinon.\n",
    "    # Sinon suppression de la colonne Reviews.\n",
    "    if reviews != 0:\n",
    "        df_apriori[\"Reviews\"] = df_apriori[\"Reviews\"].apply(lambda x: 1 if x > reviews else 0)\n",
    "    else:\n",
    "        df_apriori = df_apriori.drop(columns=[\"Reviews\"])\n",
    "        \n",
    "    df_apriori[\"Installs\"] = df_apriori[\"Installs\"].apply(lambda x: 1 if x > installs else 0)\n",
    "\n",
    "    # Sépare les colonnes genre principal et genre secondaire en colonnes correspondant à chaque genre. Concaténation\n",
    "    # au nom de ces colonnes de 1 si le genre est le genre principal, 2 si le genre est le genre secondaire. \n",
    "    df_apriori[\"GenrePrincipal\"] = df_apriori[\"GenrePrincipal\"].astype(str) + \"1\"\n",
    "    df_apriori = pd.concat([df_apriori, pd.get_dummies(df_apriori[\"GenrePrincipal\"])], axis=1)\n",
    "    # Si genre_secondaire = True, ajoute les colonnes genre secondaire avec comme valeur 1 pour l'indice du tableau qui est le bon genre.\n",
    "    # Sinon, supprime la colonne GenreSecondaire.\n",
    "    if genre_secondaire:\n",
    "        df_apriori[\"GenreSecondaire\"] = df_apriori[\"GenreSecondaire\"].astype(str) + \"2\"\n",
    "        df_apriori = pd.concat([df_apriori, pd.get_dummies(df_apriori[\"GenreSecondaire\"])], axis=1)    \n",
    "        #Renommage de la colonne \"nan2\" en \"NoSecondaryGenre\"\n",
    "        df_apriori = df_apriori.rename(columns={\"nan2\": \"NoSecondaryGenre\"})\n",
    "    else:\n",
    "        df_apriori = df_apriori.drop(columns=[\"GenreSecondaire\"])\n",
    "    \n",
    "    if category:\n",
    "        df_apriori[\"Category\"] = df_apriori[\"Category\"].astype(str)\n",
    "        df_apriori = pd.concat([df_apriori, pd.get_dummies(df_apriori[\"Category\"])], axis=1)\n",
    "    else:\n",
    "        df_apriori = df_apriori.drop(columns=[\"Category\"])\n",
    "\n",
    "    # Enlever les lignes où installs n'est pas à 1\n",
    "    df_apriori = df_apriori[df_apriori[\"Installs\"] == 1]\n",
    "\n",
    "    return df_apriori"
   ]
  },
  {
   "cell_type": "code",
   "execution_count": null,
   "metadata": {},
   "outputs": [],
   "source": [
    "def pivot(df_apriori, reviews=0):\n",
    "    '''\n",
    "        Pivote le dataframe df :\n",
    "            - une ligne par application\n",
    "            - une colonne pour le prix\n",
    "            - une colonne pour le nombre de reviews, si reviews != 0\n",
    "            - une colonne par genre\n",
    "    '''\n",
    "    #Exclure des colonnes\n",
    "    excluded_columns = [\"App\", \"Installs\",  \"GenrePrincipal\", \"GenreSecondaire\", \"Category\", \"Rating\"]\n",
    "    \n",
    "    \n",
    "    pivoted = df_apriori.pivot_table(index='App', columns=None, values=[col for col in df_apriori.columns if col not in excluded_columns], aggfunc='mean')\n",
    "\n",
    "\n",
    "    # Afficher la liste des colonnes sélectionnées\n",
    "    pivoted = pivoted.fillna(0)\n",
    "    pivoted = pivoted.astype(int)\n",
    "    \n",
    "    pivoted.to_csv(\"data/apriori.csv\")\n",
    "    \n",
    "    return pivoted\n",
    "    "
   ]
  },
  {
   "cell_type": "code",
   "execution_count": null,
   "metadata": {},
   "outputs": [],
   "source": [
    "def support_options(df, installs_threshold=1000000, reviews_threshold=0, ratings_threshold=0, genre_secondaire=False, price=True, category=False):\n",
    "    df_apriori = create_a_priori_df(df, installs=installs_threshold, rating=ratings_threshold, reviews=reviews_threshold, genre_secondaire=genre_secondaire, price=price, category=category)\n",
    "    pivoted = pivot(df_apriori, reviews=reviews_threshold)\n",
    "    supports = apriori(pivoted, min_support=0.005,max_len=3, use_colnames=True)\n",
    "    \n",
    "    return supports"
   ]
  },
  {
   "cell_type": "markdown",
   "metadata": {},
   "source": [
    "### Supports calculés pour différentes valeurs d'installations, reviews, ratings et genre secondaire"
   ]
  },
  {
   "cell_type": "code",
   "execution_count": null,
   "metadata": {},
   "outputs": [],
   "source": [
    "installs_values = [1000000, 5000000, 10000000, 50000000, 100000000]\n",
    "reviews_values = [0, 100, 500, 1000, 1500, 30000]\n",
    "ratings_values = [0, 4, 4.5]\n",
    "genre_sec_values = [True, False]\n",
    "\n",
    "# Générer toutes les combinaisons possibles\n",
    "combinations = list(itertools.product(installs_values, ratings_values, reviews_values, genre_sec_values))\n",
    "\n",
    "# Créer un fichier pour enregistrer les résultats\n",
    "output_file_path = \"./output/resultats_apriori_categories.txt\"\n",
    "\n",
    "with open(output_file_path, \"w\") as output_file:\n",
    "    # Itérer sur chaque combinaison\n",
    "    for i, combination in enumerate(combinations, start=1):\n",
    "        installs_threshold, reviews_threshold, rating_threshold, genre_sec_value = combination\n",
    "\n",
    "        # Appeler la fonction custom_apriori avec la combinaison actuelle\n",
    "        result = support_options(df, installs_threshold=installs_threshold, reviews_threshold=reviews_threshold, \n",
    "                                 ratings_threshold=rating_threshold, genre_secondaire=genre_sec_value, price=True, category=True)\n",
    "\n",
    "        # Écrire les résultats dans le fichier\n",
    "        output_file.write(f\"Résultat {i} pour Installs>={installs_threshold}, Reviews>={reviews_threshold}, Ratings>={rating_threshold}, GenreSec={genre_sec_value}:\\n\")\n",
    "        output_file.write(str(result.sort_values(by=\"support\", ascending=False).head()) + \"\\n\\n\")\n",
    "\n",
    "print(f\"Les résultats ont été enregistrés dans {output_file_path}\")"
   ]
  },
  {
   "cell_type": "markdown",
   "metadata": {},
   "source": [
    "### Supports calculés pour les genres principaux et genre secondaires (Variation des Installs, Reviews, et Ratings)"
   ]
  },
  {
   "cell_type": "code",
   "execution_count": null,
   "metadata": {},
   "outputs": [],
   "source": [
    "installs_values = [1000000, 5000000, 10000000, 50000000, 100000000]\n",
    "ratings_values = [0, 4, 4.5]\n",
    "\n",
    "# Générer toutes les combinaisons possibles\n",
    "combinations = list(itertools.product(installs_values, ratings_values))\n",
    "\n",
    "# Créer un fichier pour enregistrer les résultats\n",
    "output_file_path = \"./output/resultats_apriori_no_2nd_genre_category.txt\"\n",
    "\n",
    "with open(output_file_path, \"w\") as output_file:\n",
    "    # Itérer sur chaque combinaison\n",
    "    for i, combination in enumerate(combinations, start=1):\n",
    "        installs_threshold, rating_threshold = combination\n",
    "\n",
    "        # Appeler la fonction custom_apriori avec la combinaison actuelle\n",
    "        result = support_options(df, installs_threshold=installs_threshold, reviews_threshold=0, \n",
    "                                 ratings_threshold=rating_threshold, genre_secondaire=False, price=False, category=True)\n",
    "\n",
    "        # Écrire les résultats dans le fichier\n",
    "        output_file.write(f\"Résultat {i} pour Installs>={installs_threshold}, Reviews>={reviews_threshold}, Ratings>={rating_threshold}:\\n\")\n",
    "        output_file.write(str(result.sort_values(by=\"support\", ascending=False).head()) + \"\\n\\n\")\n",
    "\n",
    "print(f\"Les résultats ont été enregistrés dans {output_file_path}\")"
   ]
  },
  {
   "cell_type": "markdown",
   "metadata": {},
   "source": [
    "### Supports calculés pour les couples genres catégorie"
   ]
  },
  {
   "cell_type": "code",
   "execution_count": null,
   "metadata": {},
   "outputs": [],
   "source": [
    "installs_values = [1000000, 5000000, 10000000, 50000000, 100000000]\n",
    "ratings_values = [0, 4, 4.5]\n",
    "\n",
    "# Générer toutes les combinaisons possibles\n",
    "combinations = list(itertools.product(installs_values, ratings_values))\n",
    "\n",
    "# Créer un fichier pour enregistrer les résultats\n",
    "output_file_path = \"./output/resultats_apriori_couples_genre_categorie.txt\"\n",
    "\n",
    "with open(output_file_path, \"w\") as output_file:\n",
    "    # Itérer sur chaque combinaison\n",
    "    for i, combination in enumerate(combinations, start=1):\n",
    "        installs_threshold, rating_threshold = combination\n",
    "\n",
    "        # Appeler la fonction custom_apriori avec la combinaison actuelle\n",
    "        result = support_options(df, installs_threshold=installs_threshold, reviews_threshold=0, \n",
    "                                 ratings_threshold=rating_threshold, genre_secondaire=False, price=False, category=True)\n",
    "        result[\"len\"] = result[\"itemsets\"].apply(lambda x: len(x))\n",
    "\n",
    "        # Écrire les résultats dans le fichier\n",
    "        output_file.write(f\"Résultat {i} pour Installs>={installs_threshold}, Ratings>={rating_threshold}:\\n\")\n",
    "        output_file.write(str(result[result[\"len\"]==2].sort_values(by=\"support\", ascending=False).head()) + \"\\n\\n\")\n",
    "\n",
    "print(f\"Les résultats ont été enregistrés dans {output_file_path}\")"
   ]
  },
  {
   "cell_type": "markdown",
   "metadata": {},
   "source": [
    "### Support rules"
   ]
  },
  {
   "cell_type": "code",
   "execution_count": null,
   "metadata": {},
   "outputs": [],
   "source": [
    "installs_values = [1000000, 5000000, 10000000, 50000000, 100000000]\n",
    "ratings_values = [0, 4, 4.5]\n",
    "\n",
    "# Générer toutes les combinaisons possibles\n",
    "combinations = list(itertools.product(installs_values, ratings_values))\n",
    "\n",
    "# Créer un fichier pour enregistrer les résultats\n",
    "output_file_path = \"./output/resultats_apriori_couples_genres_rules.txt\"\n",
    "\n",
    "with open(output_file_path, \"w\") as output_file:\n",
    "    # Itérer sur chaque combinaison\n",
    "    for i, combination in enumerate(combinations, start=1):\n",
    "        installs_threshold, rating_threshold = combination\n",
    "\n",
    "        # Appeler la fonction custom_apriori avec la combinaison actuelle\n",
    "        result = support_options(df, installs_threshold=installs_threshold, reviews_threshold=0, \n",
    "                                 ratings_threshold=rating_threshold, genre_secondaire=True, price=False)\n",
    "        rules = association_rules(result, min_threshold=0.5)\n",
    "\n",
    "        # Écrire les résultats dans le fichier\n",
    "        output_file.write(f\"Résultat {i} pour Installs>={installs_threshold}, Ratings>={rating_threshold}:\\n\")\n",
    "        output_file.write(str(rules.sort_values(by=\"lift\", ascending=False).head()) + \"\\n\\n\")\n",
    "\n",
    "print(f\"Les résultats ont été enregistrés dans {output_file_path}\")"
   ]
  },
  {
   "cell_type": "markdown",
   "metadata": {},
   "source": [
    "## Partie 2"
   ]
  },
  {
   "cell_type": "markdown",
   "metadata": {},
   "source": [
    "Dans cette partie, plutôt que d'inférer sur aucune colonne, nous avons passé les colonnes Installs et Ratings, pour des valeurs respectivement supérieures à 1 million et 4."
   ]
  },
  {
   "cell_type": "code",
   "execution_count": null,
   "metadata": {},
   "outputs": [],
   "source": [
    "def create_a_priori_df_col_installs(df, installs = 1000000, rating=4, reviews=0, genre_secondaire=False, price=True):\n",
    "    ''' \n",
    "        Crée le data frame utilisé pour l'apriori.\n",
    "        \n",
    "        @param df : dataframe, dataframe à utiliser pour créer le dataframe pour l'apriori.\n",
    "        @param installs : int, nombre d'installations minimum pour qu'une application soit considérée comme populaire.\n",
    "        @param rating : float, note minimum pour qu'une application soit considérée comme populaire.\n",
    "        @param reviews : int, nombre de reviews minimum pour qu'une application soit considérée comme populaire.\n",
    "        @param genre_secondaire : bool, si True, les genres secondaires sont pris en compte, sinon, ils sont ignorés.\n",
    "        @param price : bool, si True, le prix des applications est prise en compte, sinon, il esy ignoré.\n",
    "        \n",
    "        @return : dataframe, dataframe pour l'apriori.\n",
    "    '''\n",
    "    df_apriori = df.copy()\n",
    "    \n",
    "    # Ajoute les colonnes genre principal et genre secondaire avec comme valeur 1 pour l'indice du tableau qui est le bon genre   \n",
    "    df_apriori = pd.concat([df_apriori, pd.get_dummies(df_apriori[\"GenrePrincipal\"])], axis=1)\n",
    "    if genre_secondaire:\n",
    "        df_apriori = pd.concat([df_apriori, pd.get_dummies(df_apriori[\"GenreSecondaire\"])], axis=1)\n",
    "\n",
    "    \n",
    "    # Sélection des colonnes nous intéressant\n",
    "    selected_columns = [\"App\", \"Price\", \"Rating\", \"Reviews\", \"GenrePrincipal\", \"GenreSecondaire\", \"Installs\"]\n",
    "    df_apriori = df_apriori[selected_columns]\n",
    "    \n",
    "    # Prix = 1 si l'application est payante, 0 sinon.\n",
    "    if price:\n",
    "        df_apriori[\"Price\"] = df_apriori[\"Price\"].apply(lambda x: 1 if x == 0 else 0)\n",
    "    else:\n",
    "        df_apriori = df_apriori.drop(columns=[\"Price\"])\n",
    "    \n",
    "    # Si reviews != 0, Reviews = 1 si l'application a plus de reviews que reviews, 0 sinon.\n",
    "    # Sinon suppression de la colonne Reviews.\n",
    "    if reviews != 0:\n",
    "        df_apriori[\"Reviews\"] = df_apriori[\"Reviews\"].apply(lambda x: 1 if x > reviews else 0)\n",
    "    else:\n",
    "        df_apriori = df_apriori.drop(columns=[\"Reviews\"])\n",
    "\n",
    "    # Sépare les colonnes genre principal et genre secondaire en colonnes correspondant à chaque genre. Concaténation\n",
    "    # au nom de ces colonnes de 1 si le genre est le genre principal, 2 si le genre est le genre secondaire. \n",
    "    df_apriori[\"GenrePrincipal\"] = df_apriori[\"GenrePrincipal\"].astype(str) + \"1\"\n",
    "    df_apriori = pd.concat([df_apriori, pd.get_dummies(df_apriori[\"GenrePrincipal\"])], axis=1)\n",
    "    # Si genre_secondaire = True, ajoute les colonnes genre secondaire avec comme valeur 1 pour l'indice du tableau qui est le bon genre.\n",
    "    # Sinon, supprime la colonne GenreSecondaire.\n",
    "    if genre_secondaire:\n",
    "        df_apriori = pd.concat([df_apriori, pd.get_dummies(df_apriori[\"GenreSecondaire\"])], axis=1)\n",
    "        df_apriori[\"GenreSecondaire\"] = df_apriori[\"GenreSecondaire\"].astype(str) + \"2\"\n",
    "        df_apriori = pd.concat([df_apriori, pd.get_dummies(df_apriori[\"GenreSecondaire\"])], axis=1)    \n",
    "        #Renommage de la colonne \"nan2\" en \"NoSecondaryGenre\"\n",
    "        df_apriori = df_apriori.rename(columns={\"nan2\": \"NoSecondaryGenre\"})\n",
    "    else:\n",
    "        df_apriori = df_apriori.drop(columns=[\"GenreSecondaire\"])\n",
    "\n",
    "    # Enlever les lignes où installs est inférieur à 1000000\n",
    "    df_apriori = df_apriori[df_apriori[\"Installs\"] >= installs]\n",
    "    df_apriori = df_apriori[df_apriori[\"Rating\"] >= rating]\n",
    "    \n",
    "    return df_apriori"
   ]
  },
  {
   "cell_type": "code",
   "execution_count": null,
   "metadata": {},
   "outputs": [],
   "source": [
    "def pivot_col_installs(df_apriori, reviews=0):\n",
    "    '''\n",
    "        Pivote le dataframe df :\n",
    "            - une ligne par application\n",
    "            - une colonne pour le prix\n",
    "            - une colonne pour le nombre de reviews, si reviews != 0\n",
    "            - une colonne par genre\n",
    "    '''\n",
    "    #Exclure des colonnes\n",
    "    excluded_columns = [\"App\", \"Installs\",  \"GenrePrincipal\", \"GenreSecondaire\", \"Rating\"]\n",
    "    \n",
    "    \n",
    "    pivoted = df_apriori.pivot_table(index='App', columns=[\"Installs\", \"Rating\"], values=[col for col in df_apriori.columns if col not in excluded_columns], aggfunc='mean')\n",
    "\n",
    "\n",
    "    # Afficher la liste des colonnes sélectionnées\n",
    "    pivoted = pivoted.fillna(0)\n",
    "    pivoted = pivoted.astype(int)\n",
    "    \n",
    "    pivoted.to_csv(\"data/apriori_columns_installs.csv\")\n",
    "    \n",
    "    return pivoted"
   ]
  },
  {
   "cell_type": "code",
   "execution_count": null,
   "metadata": {},
   "outputs": [],
   "source": [
    "def support_options_col_installs(df, installs_threshold=1000000, reviews_threshold=0, ratings_threshold=4, genre_secondaire=False, price=True):\n",
    "    df_apriori = create_a_priori_df_col_installs(df, installs=installs_threshold, rating=ratings_threshold, reviews=reviews_threshold, genre_secondaire=genre_secondaire, price=price)\n",
    "    pivoted = pivot_col_installs(df_apriori, reviews=reviews_threshold)\n",
    "    supports = apriori(pivoted, min_support=0.005,max_len=3, use_colnames=True)\n",
    "    \n",
    "    return supports"
   ]
  },
  {
   "cell_type": "markdown",
   "metadata": {},
   "source": [
    "### Price, Reviews, GenrePrincipal et GenreSecondaire"
   ]
  },
  {
   "cell_type": "code",
   "execution_count": null,
   "metadata": {},
   "outputs": [],
   "source": [
    "installs_values = [1000000, 10000000, 100000000]\n",
    "reviews_values = [0, 100, 500, 1000, 1500, 30000]\n",
    "ratings_values = [4, 4.5]\n",
    "genre_sec_values = [True, False]\n",
    "\n",
    "# Générer toutes les combinaisons possibles\n",
    "combinations = list(itertools.product(installs_values, reviews_values, ratings_values, genre_sec_values))\n",
    "\n",
    "# Créer un fichier pour enregistrer les résultats\n",
    "output_file_path = \"./output/resultats_apriori_part2.txt\"\n",
    "\n",
    "with open(output_file_path, \"w\") as output_file:\n",
    "    # Itérer sur chaque combinaison\n",
    "    for i, combination in enumerate(combinations, start=1):\n",
    "        installs_threshold, reviews_threshold, rating_threshold, genre_sec_value = combination\n",
    "\n",
    "        # Appeler la fonction custom_apriori avec la combinaison actuelle\n",
    "        result = support_options_col_installs(df, installs_threshold=installs_threshold, reviews_threshold=reviews_threshold, \n",
    "                                 ratings_threshold=rating_threshold, genre_secondaire=genre_sec_value, price=True)\n",
    "\n",
    "        # Écrire les résultats dans le fichier\n",
    "        output_file.write(f\"Résultat {i} pour Installs>={installs_threshold}, Reviews>={reviews_threshold}, Ratings>={rating_threshold}, GenreSec={genre_sec_value}:\\n\")\n",
    "        output_file.write(str(result.sort_values(by=\"support\", ascending=False).head()) + \"\\n\\n\")\n",
    "\n",
    "print(f\"Les résultats ont été enregistrés dans {output_file_path}\")"
   ]
  },
  {
   "cell_type": "markdown",
   "metadata": {},
   "source": [
    "### GenrePrincipal et GenreSecondaire"
   ]
  },
  {
   "cell_type": "code",
   "execution_count": null,
   "metadata": {},
   "outputs": [],
   "source": [
    "installs_values = [1000000, 5000000, 10000000, 50000000, 100000000]\n",
    "ratings_values = [0, 4, 4.5]\n",
    "\n",
    "# Générer toutes les combinaisons possibles\n",
    "combinations = list(itertools.product(installs_values, ratings_values))\n",
    "\n",
    "# Créer un fichier pour enregistrer les résultats\n",
    "output_file_path = \"./output/resultats_apriori_no_price_part2.txt\"\n",
    "\n",
    "with open(output_file_path, \"w\") as output_file:\n",
    "    # Itérer sur chaque combinaison\n",
    "    for i, combination in enumerate(combinations, start=1):\n",
    "        installs_threshold, rating_threshold = combination\n",
    "\n",
    "        # Appeler la fonction custom_apriori avec la combinaison actuelle\n",
    "        result = support_options_col_installs(df, installs_threshold=installs_threshold, reviews_threshold=0, \n",
    "                                 ratings_threshold=rating_threshold, genre_secondaire=True, price=False)\n",
    "\n",
    "        # Écrire les résultats dans le fichier\n",
    "        output_file.write(f\"Résultat {i} pour Installs>={installs_threshold}, Reviews>={reviews_threshold}, Ratings>={rating_threshold}:\\n\")\n",
    "        output_file.write(str(result.sort_values(by=\"support\", ascending=False).head()) + \"\\n\\n\")\n",
    "\n",
    "print(f\"Les résultats ont été enregistrés dans {output_file_path}\")"
   ]
  },
  {
   "cell_type": "markdown",
   "metadata": {},
   "source": [
    "### Couples (GenrePrincipal, GenreSecondaire)"
   ]
  },
  {
   "cell_type": "code",
   "execution_count": null,
   "metadata": {},
   "outputs": [],
   "source": [
    "installs_values = [1000000, 5000000, 10000000, 50000000, 100000000]\n",
    "ratings_values = [0, 4, 4.5]\n",
    "\n",
    "# Générer toutes les combinaisons possibles\n",
    "combinations = list(itertools.product(installs_values, ratings_values))\n",
    "\n",
    "# Créer un fichier pour enregistrer les résultats\n",
    "output_file_path = \"./output/resultats_apriori_couples_genres_part2.txt\"\n",
    "\n",
    "with open(output_file_path, \"w\") as output_file:\n",
    "    # Itérer sur chaque combinaison\n",
    "    for i, combination in enumerate(combinations, start=1):\n",
    "        installs_threshold, rating_threshold = combination\n",
    "\n",
    "        # Appeler la fonction custom_apriori avec la combinaison actuelle\n",
    "        result = support_options_col_installs(df, installs_threshold=installs_threshold, reviews_threshold=0, \n",
    "                                 ratings_threshold=rating_threshold, genre_secondaire=True, price=False)\n",
    "        result[\"len\"] = result[\"itemsets\"].apply(lambda x: len(x))\n",
    "\n",
    "        # Écrire les résultats dans le fichier\n",
    "        output_file.write(f\"Résultat {i} pour Installs>={installs_threshold}, Ratings>={rating_threshold}:\\n\")\n",
    "        output_file.write(str(result[result[\"len\"]==2].sort_values(by=\"support\", ascending=False).head()) + \"\\n\\n\")\n",
    "\n",
    "print(f\"Les résultats ont été enregistrés dans {output_file_path}\")"
   ]
  }
 ],
 "metadata": {
  "kernelspec": {
   "display_name": "base",
   "language": "python",
   "name": "python3"
  },
  "language_info": {
   "codemirror_mode": {
    "name": "ipython",
    "version": 3
   },
   "file_extension": ".py",
   "mimetype": "text/x-python",
   "name": "python",
   "nbconvert_exporter": "python",
   "pygments_lexer": "ipython3",
   "version": "3.9.13"
  }
 },
 "nbformat": 4,
 "nbformat_minor": 2
}
